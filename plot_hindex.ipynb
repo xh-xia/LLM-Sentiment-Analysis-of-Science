{
 "cells": [
  {
   "cell_type": "markdown",
   "metadata": {},
   "source": [
    "## Load data."
   ]
  },
  {
   "cell_type": "code",
   "execution_count": 1,
   "metadata": {},
   "outputs": [],
   "source": [
    "import numpy as np\n",
    "import os\n",
    "import pickle\n",
    "import matplotlib as mpl\n",
    "import matplotlib.pyplot as plt\n",
    "\n",
    "\n",
    "CWD = os.path.abspath(\"\")  # Jupyter notebook path.\n",
    "dir_dict = os.path.join(CWD, \"dicts\")  # Data to plot.\n",
    "dir_output = os.path.join(CWD, \"output\")  # Folder to put figures in.\n",
    "dir_npy = os.path.join(CWD, \"npy\")  # Data files needed for plotting figures.\n",
    "\n",
    "# Set up plotting parameters.\n",
    "sent_colors = [\"#504DB2\", \"#414042\", \"#B2504D\"]  # POS, NEU, NEG\n",
    "# costra_colors = [\"#2CBEC6\", \"#F59448\"]  # collaborators, non-collaborators\n",
    "# misc_colors = [\"#E6B32F\", \"#3F6F88\"]\n",
    "font_kw = {\"family\": \"arial\", \"weight\": \"normal\", \"size\": \"7\"}  # Markers and such.\n",
    "mpl.rc(\"font\", **font_kw)\n",
    "\n",
    "# Load data to plot.\n",
    "sent2lab = {1: \"Favorable Sentiment\", 0: \"Neutral Sentiment\", -1: \"Critical Sentiment\"}\n",
    "sent2idx = {1: 0, 0: 1, -1: 2}\n",
    "\n",
    "ratio_mat_rel = np.load(os.path.join(dir_npy, \"ratio_mat_rel-hindex.npy\"))\n",
    "bins = np.load(os.path.join(dir_npy, \"groups-hindex.npy\"))"
   ]
  },
  {
   "cell_type": "markdown",
   "metadata": {},
   "source": [
    "## Make figures."
   ]
  },
  {
   "cell_type": "code",
   "execution_count": 2,
   "metadata": {},
   "outputs": [],
   "source": [
    "def plot_hIndex(rmrs, dir_, ylims=None, sent=-1):\n",
    "\n",
    "    fig, axes = plt.subplots(1, 2, figsize=(3.41 * 0.7, 3.41 * 0.7))\n",
    "    for i_ax in range(2):  # Collaborators, and then Non-Collaborators\n",
    "        ax = axes[i_ax]\n",
    "        # xticklabels = [f\"{int(bins[i]):d}-{int(bins[i+1]):d}\" for i in range(len(bins) - 1)]\n",
    "        xticklabels = [f\"{int((bins[i]+bins[i+1])/2):d}\" for i in range(len(bins) - 1)]\n",
    "\n",
    "        kwargs = dict(\n",
    "            widths=0.5,\n",
    "            boxprops={\"color\": \"black\", \"linewidth\": 0.5},\n",
    "            medianprops={\"color\": \"black\", \"linewidth\": 0.5},\n",
    "            whiskerprops={\"color\": \"black\", \"linewidth\": 0.5, \"visible\": True},\n",
    "            capprops={\"color\": \"black\", \"linewidth\": 0.5},\n",
    "        )\n",
    "        kwargs.update(dict(showmeans=False, showfliers=False, showbox=True, showcaps=True))\n",
    "        ax.boxplot([rmrs[i_ax + 1, mi, sent2idx[sent], :] for mi in range(rmrs.shape[1])], **kwargs)\n",
    "\n",
    "        xlim = ax.get_xlim()\n",
    "        ylim = ylims[i_ax] if ylims is not None else ax.get_ylim()\n",
    "        ax.set_xticks(range(1, len(xticklabels) + 1), xticklabels)\n",
    "        ax.plot(xlim, [0, 0], color=\"grey\", alpha=0.5, zorder=1, linestyle=\":\")  # Baseline (indistinguishable from null).\n",
    "        if i_ax == 0:\n",
    "            ax.set_ylabel(sent2lab[sent])\n",
    "            ax.spines[[\"right\", \"top\"]].set_visible(False)\n",
    "        elif i_ax == 1:\n",
    "            ax.get_yaxis().set_visible(False)\n",
    "            ax.spines[[\"right\", \"top\", \"left\"]].set_visible(False)\n",
    "        ax.set_xlim(xlim)\n",
    "        ax.set_ylim(ylim)\n",
    "\n",
    "    tmp_xmid = (fig.subplotpars.right + 0.09 + fig.subplotpars.left) / 2\n",
    "    tmp_ymid = fig.subplotpars.bottom - 0.06\n",
    "    fig.supxlabel(f\"Difference in $h$-Index\\n(Citing - Cited)\", x=tmp_xmid, y=tmp_ymid)\n",
    "    fig.tight_layout()\n",
    "    plt.show()\n",
    "    fig.savefig(os.path.join(dir_, f\"hIndex {sent2lab[sent]}.svg\"), bbox_inches=\"tight\", transparent=True)\n",
    "    fig.clf()  # Clear figure.\n",
    "    plt.close(fig=fig)  # Close figure."
   ]
  },
  {
   "cell_type": "code",
   "execution_count": 3,
   "metadata": {},
   "outputs": [
    {
     "data": {
      "image/png": "[encoded data removed]",
      "text/plain": [
       "<Figure size 238.7x238.7 with 2 Axes>"
      ]
     },
     "metadata": {},
     "output_type": "display_data"
    }
   ],
   "source": [
    "ylims = [[-37, 40], [-37, 40]]\n",
    "# ylims = None\n",
    "plot_hIndex(ratio_mat_rel, dir_output, ylims=ylims, sent=-1)  # Plot critical sentiment."
   ]
  },
  {
   "cell_type": "code",
   "execution_count": 4,
   "metadata": {},
   "outputs": [
    {
     "data": {
      "image/png": "[encoded data removed]",
      "text/plain": [
       "<Figure size 238.7x238.7 with 2 Axes>"
      ]
     },
     "metadata": {},
     "output_type": "display_data"
    }
   ],
   "source": [
    "ylims = [[-12, 30], [-12, 30]]\n",
    "# ylims = None\n",
    "plot_hIndex(ratio_mat_rel, dir_output, ylims=ylims, sent=1)  # Plot favorable sentiment."
   ]
  },
  {
   "cell_type": "code",
   "execution_count": null,
   "metadata": {},
   "outputs": [],
   "source": []
  }
 ],
 "metadata": {
  "kernelspec": {
   "display_name": "venv_px",
   "language": "python",
   "name": "python3"
  },
  "language_info": {
   "codemirror_mode": {
    "name": "ipython",
    "version": 3
   },
   "file_extension": ".py",
   "mimetype": "text/x-python",
   "name": "python",
   "nbconvert_exporter": "python",
   "pygments_lexer": "ipython3",
   "version": "3.9.13"
  }
 },
 "nbformat": 4,
 "nbformat_minor": 2
}
