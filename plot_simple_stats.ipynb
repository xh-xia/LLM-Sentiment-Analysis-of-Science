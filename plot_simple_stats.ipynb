{
 "cells": [
  {
   "cell_type": "markdown",
   "metadata": {},
   "source": [
    "## Load data."
   ]
  },
  {
   "cell_type": "code",
   "execution_count": 1,
   "metadata": {},
   "outputs": [],
   "source": [
    "import numpy as np\n",
    "import os\n",
    "import pickle\n",
    "import matplotlib as mpl\n",
    "import matplotlib.pyplot as plt\n",
    "import pandas as pd\n",
    "\n",
    "from helper_functions import reverse_dict_list, reverse_dict_val, sorted_dict\n",
    "\n",
    "\n",
    "CWD = os.path.abspath(\"\")  # Jupyter notebook path.\n",
    "dir_TEMP = os.path.join(CWD, \"TEMP\")  # Intermediate files.\n",
    "dir_dict = os.path.join(CWD, \"dicts\")  # Data to plot.\n",
    "dir_input = os.path.join(CWD, \"input\")\n",
    "dir_output = os.path.join(CWD, \"output\")  # Folder to put figures in.\n",
    "dir_npy = os.path.join(CWD, \"npy\")  # Data files needed for plotting figures.\n",
    "\n",
    "# Set up plotting parameters.\n",
    "cm_max = 15  # Maximum number of citation mentions to plot.\n",
    "sent_colors = [\"#504DB2\", \"#414042\", \"#B2504D\"]  # POS, NEU, NEG\n",
    "font_kw = {\"family\": \"arial\", \"weight\": \"normal\", \"size\": \"7\"}  # Markers and such.\n",
    "mpl.rc(\"font\", **font_kw)\n",
    "\n",
    "# Load data to plot.\n",
    "with open(os.path.join(dir_TEMP, \"cite2sent_0.pkl\"), \"rb\") as f:\n",
    "    cite2sent_0 = pickle.load(f)  # Pre-aggregation citation sentences indices.\n",
    "with open(os.path.join(dir_TEMP, \"cite2sent_1.pkl\"), \"rb\") as f:\n",
    "    cite2sent_1 = pickle.load(f)  # Pre-aggregation citation sentiment.\n",
    "with open(os.path.join(dir_TEMP, \"sentences2rate-CGPT.txt\"), mode=\"r+\", encoding=\"UTF-8\") as file_out:\n",
    "    sentences2rate = file_out.readlines()\n",
    "with open(os.path.join(dir_TEMP, \"cite2ns.pkl\"), \"rb\") as f:\n",
    "    cite2ns = pickle.load(f)  # Citation frequency between a given citer-citee pair.\n",
    "with open(os.path.join(dir_dict, \"cite2sent_2.pkl\"), \"rb\") as f:\n",
    "    cite2sent_emp = pickle.load(f)  # Each citation pair has just 1 sentiment; \"empirical\".\n",
    "with open(os.path.join(dir_dict, \"paper2meta.pkl\"), \"rb\") as f:\n",
    "    paper2meta = pickle.load(f)\n",
    "with open(os.path.join(dir_dict, \"jour2meta.pkl\"), \"rb\") as f:\n",
    "    jour2meta = pickle.load(f)\n",
    "with open(os.path.join(dir_dict, \"cite2distance.pkl\"), \"rb\") as f:\n",
    "    cite2distance = pickle.load(f)  # Collaboration distance."
   ]
  },
  {
   "cell_type": "markdown",
   "metadata": {},
   "source": [
    "### brilliance department name matching prints."
   ]
  },
  {
   "cell_type": "code",
   "execution_count": 2,
   "metadata": {},
   "outputs": [
    {
     "name": "stdout",
     "output_type": "stream",
     "text": [
      "28 departments.\n"
     ]
    }
   ],
   "source": [
    "with open(os.path.join(dir_dict, \"paper2last_author_department_28_dep.pkl\"), \"rb\") as f:\n",
    "    paper2last_author_department = pickle.load(f)\n",
    "\n",
    "departments_subset = set(reverse_dict_list(paper2last_author_department))\n",
    "print(f\"{len(departments_subset)} departments.\")\n",
    "\n",
    "df_fab = pd.read_csv(os.path.join(dir_input, \"brilliance_data.csv\"), on_bad_lines=\"skip\", header=0)\n",
    "dep2fab_field_label = {d: set() for d in departments_subset}\n",
    "### Below aren't found in the brilliance .csv fields:\n",
    "### \"imaging\", \"mental\", \"radiology\", \"behavior\", \"therapy\", \"biomedical\"\n",
    "for x in sorted(list(set(df_fab[\"field_label\"]))):\n",
    "    x_lowercase = x.casefold()\n",
    "    if x_lowercase in departments_subset:\n",
    "        dep2fab_field_label[x_lowercase].add(x)\n",
    "    elif x in {\"MolecularBiology\"}:\n",
    "        dep2fab_field_label[\"molecular\"].add(x)\n",
    "    elif x in {\"AnatomicClinicalPathology\"}:\n",
    "        dep2fab_field_label[\"pathology\"].add(x)\n",
    "    elif x in {\"MedicalGenetics\"}:\n",
    "        dep2fab_field_label[\"medical\"].add(x)\n",
    "        dep2fab_field_label[\"genetics\"].add(x)\n",
    "    elif x in {\"EmergencyMedicine\", \"FamilyMedicine\", \"InternalMedicine\", \"NuclearMedicine\", \"PainMedicine\"}:\n",
    "        dep2fab_field_label[\"medical\"].add(x)\n",
    "    elif x in {\"InformationScience\"}:\n",
    "        dep2fab_field_label[\"information\"].add(x)\n",
    "    elif x in {\"Anatomy/CellBiology\"}:\n",
    "        dep2fab_field_label[\"anatomy\"].add(x)\n",
    "        dep2fab_field_label[\"cell\"].add(x)\n",
    "    elif x in {\"Pharmacology\"}:\n",
    "        dep2fab_field_label[\"pharma\"].add(x)\n",
    "    elif x in {\"ColonRectalSurgery\", \"GeneralSurgery\", \"NeurologicalSurgery\", \"OrthopaedicSurgery\", \"PlasticSurgery\", \"ThoracicSurgery\"}:\n",
    "        dep2fab_field_label[\"surgery\"].add(x)\n",
    "    elif x in {\"ComputerScience\"}:\n",
    "        dep2fab_field_label[\"compute\"].add(x)\n",
    "\n",
    "dep2fab_field_label = sorted_dict(dep2fab_field_label, reverse=False, key=lambda x:x[0])"
   ]
  },
  {
   "cell_type": "code",
   "execution_count": 3,
   "metadata": {},
   "outputs": [
    {
     "name": "stdout",
     "output_type": "stream",
     "text": [
      "anatomy                                                                                                                                           Anatomy/CellBiology\n",
      "behavior                                                                                                                                                          N/A\n",
      "biochemistry                                                                                                                                             Biochemistry\n",
      "biology                                                                                                                                                       Biology\n",
      "biomedical                                                                                                                                                        N/A\n",
      "cell                                                                                                                                              Anatomy/CellBiology\n",
      "compute                                                                                                                                               ComputerScience\n",
      "engineering                                                                                                                                               Engineering\n",
      "genetics                                                                                                                                              MedicalGenetics\n",
      "imaging                                                                                                                                                           N/A\n",
      "information                                                                                                                                        InformationScience\n",
      "mathematics                                                                                                                                               Mathematics\n",
      "medical                                                                FamilyMedicine,MedicalGenetics,NuclearMedicine,PainMedicine,InternalMedicine,EmergencyMedicine\n",
      "mental                                                                                                                                                            N/A\n",
      "molecular                                                                                                                                            MolecularBiology\n",
      "neurology                                                                                                                                                   Neurology\n",
      "neuroscience                                                                                                                                             Neuroscience\n",
      "ophthalmology                                                                                                                                           Ophthalmology\n",
      "pathology                                                                                                                                   AnatomicClinicalPathology\n",
      "pharma                                                                                                                                                   Pharmacology\n",
      "physics                                                                                                                                                       Physics\n",
      "physiology                                                                                                                                                 Physiology\n",
      "psychiatry                                                                                                                                                 Psychiatry\n",
      "psychology                                                                                                                                                 Psychology\n",
      "radiology                                                                                                                                                         N/A\n",
      "statistics                                                                                                                                                 Statistics\n",
      "surgery                                                       ColonRectalSurgery,ThoracicSurgery,OrthopaedicSurgery,PlasticSurgery,GeneralSurgery,NeurologicalSurgery\n",
      "therapy                                                                                                                                                           N/A\n"
     ]
    }
   ],
   "source": [
    "for k,v in dep2fab_field_label.items():\n",
    "    v_str = \"N/A\" if not v else \",\".join(v)\n",
    "    print(f\"{k:<15s}{v_str:>150s}\")"
   ]
  },
  {
   "cell_type": "markdown",
   "metadata": {},
   "source": [
    "### Sentences of each rated sentiment."
   ]
  },
  {
   "cell_type": "code",
   "execution_count": 3,
   "metadata": {},
   "outputs": [],
   "source": [
    "sentences = {1: [], 0: [], -1: []}\n",
    "for pair in cite2sent_0:\n",
    "    for idx, sentiment in zip(cite2sent_0[pair], cite2sent_1[pair]):\n",
    "        sentences[sentiment].append(sentences2rate[idx].strip())"
   ]
  },
  {
   "cell_type": "markdown",
   "metadata": {},
   "source": [
    "### h-Index stats."
   ]
  },
  {
   "cell_type": "code",
   "execution_count": 2,
   "metadata": {},
   "outputs": [
    {
     "name": "stdout",
     "output_type": "stream",
     "text": [
      "Num of last authors: 56034 69.24\n"
     ]
    }
   ],
   "source": [
    "with open(os.path.join(dir_dict, \"last_author2hIndex.pkl\"), \"rb\") as f:\n",
    "    last_author2hIndex = pickle.load(f)\n",
    "with open(os.path.join(dir_dict, \"paper2last_author.pkl\"), \"rb\") as f:\n",
    "    paper2last_author = pickle.load(f)\n",
    "\n",
    "\n",
    "last_authors = {au for au in paper2last_author.values()}\n",
    "presence = {au for au in last_authors if au in last_author2hIndex}\n",
    "a = len(presence) / len(last_authors) * 100\n",
    "print(f\"Num of last authors: {len(last_authors)} {a:.2f}\")"
   ]
  },
  {
   "cell_type": "markdown",
   "metadata": {},
   "source": [
    "### Collab groups aggregate behavior stats."
   ]
  },
  {
   "cell_type": "code",
   "execution_count": 2,
   "metadata": {},
   "outputs": [],
   "source": [
    "# 4 collab distance types; [1, inf), [1], [2, inf), [0].\n",
    "ratio_mat_rel = np.load(os.path.join(dir_npy, \"ratio_mat_rel-collab_groups.npy\"))"
   ]
  },
  {
   "cell_type": "code",
   "execution_count": 3,
   "metadata": {},
   "outputs": [
    {
     "name": "stdout",
     "output_type": "stream",
     "text": [
      "16.8\n",
      "-3.4\n"
     ]
    }
   ],
   "source": [
    "fav_to_collab = ratio_mat_rel[1, 0, :]  # distance [1]\n",
    "fav_to_noncollab = ratio_mat_rel[2, 0, :]  # distance [2, inf)\n",
    "print(f\"{np.nanmean(fav_to_collab):.1f}\")\n",
    "print(f\"{np.nanmean(fav_to_noncollab):.1f}\")"
   ]
  },
  {
   "cell_type": "markdown",
   "metadata": {},
   "source": [
    "### Calculate pre-aggregation sentiment ratio (of citer-citee pairs) for research, review, and both types of papers."
   ]
  },
  {
   "cell_type": "code",
   "execution_count": 4,
   "metadata": {},
   "outputs": [
    {
     "name": "stdout",
     "output_type": "stream",
     "text": [
      "POS ratios: research 40.52% review 28.56% both 37.33%\n",
      "NEU ratios: research 53.96% review 66.75% both 57.37%\n",
      "NEG ratios: research 5.52% review 4.69% both 5.30%\n"
     ]
    }
   ],
   "source": [
    "research_POS = sum([sum([x == 1 for x in s]) for e, s in cite2sent_1.items() if paper2meta[e[0]][\"article-type\"] == \"research-article\"])\n",
    "research_NEU = sum([sum([x == 0 for x in s]) for e, s in cite2sent_1.items() if paper2meta[e[0]][\"article-type\"] == \"research-article\"])\n",
    "research_NEG = sum([sum([x == -1 for x in s]) for e, s in cite2sent_1.items() if paper2meta[e[0]][\"article-type\"] == \"research-article\"])\n",
    "research_tot = research_POS + research_NEU + research_NEG\n",
    "review_POS = sum([sum([x == 1 for x in s]) for e, s in cite2sent_1.items() if paper2meta[e[0]][\"article-type\"] == \"review-article\"])\n",
    "review_NEU = sum([sum([x == 0 for x in s]) for e, s in cite2sent_1.items() if paper2meta[e[0]][\"article-type\"] == \"review-article\"])\n",
    "review_NEG = sum([sum([x == -1 for x in s]) for e, s in cite2sent_1.items() if paper2meta[e[0]][\"article-type\"] == \"review-article\"])\n",
    "review_tot = review_POS + review_NEU + review_NEG\n",
    "x_POS = sum([sum([x == 1 for x in s]) for e, s in cite2sent_1.items()])\n",
    "x_NEU = sum([sum([x == 0 for x in s]) for e, s in cite2sent_1.items()])\n",
    "x_NEG = sum([sum([x == -1 for x in s]) for e, s in cite2sent_1.items()])\n",
    "x_tot = x_POS + x_NEU + x_NEG\n",
    "\n",
    "ratios = [\n",
    "    [research_POS / research_tot * 100, review_POS / review_tot * 100, x_POS / x_tot * 100],\n",
    "    [research_NEU / research_tot * 100, review_NEU / review_tot * 100, x_NEU / x_tot * 100],\n",
    "    [research_NEG / research_tot * 100, review_NEG / review_tot * 100, x_NEG / x_tot * 100],\n",
    "]\n",
    "for r, s in zip(ratios, [\"POS\", \"NEU\", \"NEG\"]):\n",
    "    print(f\"{s} ratios: research {r[0]:.2f}% review {r[1]:.2f}% both {r[2]:.2f}%\")"
   ]
  },
  {
   "cell_type": "markdown",
   "metadata": {},
   "source": [
    "### Calculate post-aggregation sentiment ratio (of citer-citee pairs) for research, review, and both types of papers."
   ]
  },
  {
   "cell_type": "code",
   "execution_count": 5,
   "metadata": {},
   "outputs": [
    {
     "name": "stdout",
     "output_type": "stream",
     "text": [
      "POS ratios: research 44.71% review 35.64% both 42.21%\n",
      "NEU ratios: research 46.92% review 57.57% both 49.85%\n",
      "NEG ratios: research 8.37% review 6.79% both 7.94%\n"
     ]
    }
   ],
   "source": [
    "research_POS = sum([s == 1 for e, s in cite2sent_emp.items() if paper2meta[e[0]][\"article-type\"] == \"research-article\"])\n",
    "research_NEU = sum([s == 0 for e, s in cite2sent_emp.items() if paper2meta[e[0]][\"article-type\"] == \"research-article\"])\n",
    "research_NEG = sum([s == -1 for e, s in cite2sent_emp.items() if paper2meta[e[0]][\"article-type\"] == \"research-article\"])\n",
    "research_tot = research_POS + research_NEU + research_NEG\n",
    "review_POS = sum([s == 1 for e, s in cite2sent_emp.items() if paper2meta[e[0]][\"article-type\"] == \"review-article\"])\n",
    "review_NEU = sum([s == 0 for e, s in cite2sent_emp.items() if paper2meta[e[0]][\"article-type\"] == \"review-article\"])\n",
    "review_NEG = sum([s == -1 for e, s in cite2sent_emp.items() if paper2meta[e[0]][\"article-type\"] == \"review-article\"])\n",
    "review_tot = review_POS + review_NEU + review_NEG\n",
    "x_POS = sum([s == 1 for e, s in cite2sent_emp.items()])\n",
    "x_NEU = sum([s == 0 for e, s in cite2sent_emp.items()])\n",
    "x_NEG = sum([s == -1 for e, s in cite2sent_emp.items()])\n",
    "x_tot = x_POS + x_NEU + x_NEG\n",
    "\n",
    "ratios = [\n",
    "    [research_POS / research_tot * 100, review_POS / review_tot * 100, x_POS / x_tot * 100],\n",
    "    [research_NEU / research_tot * 100, review_NEU / review_tot * 100, x_NEU / x_tot * 100],\n",
    "    [research_NEG / research_tot * 100, review_NEG / review_tot * 100, x_NEG / x_tot * 100],\n",
    "]\n",
    "for r, s in zip(ratios, [\"POS\", \"NEU\", \"NEG\"]):\n",
    "    print(f\"{s} ratios: research {r[0]:.2f}% review {r[1]:.2f}% both {r[2]:.2f}%\")"
   ]
  },
  {
   "cell_type": "markdown",
   "metadata": {},
   "source": [
    "### Make journal table (only ones ended up in the analysis)."
   ]
  },
  {
   "cell_type": "code",
   "execution_count": 2,
   "metadata": {},
   "outputs": [
    {
     "name": "stdout",
     "output_type": "stream",
     "text": [
      "181 187\n"
     ]
    }
   ],
   "source": [
    "# Set of journals in the data.\n",
    "journals_s = {v[\"jyf\"][0] for v in paper2meta.values()}\n",
    "# jour2meta has all 185+3 considered and 184+3=187 found in Medline.\n",
    "# In final data, there are 181 journals.\n",
    "print(len(journals_s), len(jour2meta))\n",
    "\n",
    "for k in jour2meta:\n",
    "    if jour2meta[k][\"MedAbbr\"] not in journals_s:\n",
    "        # print(jour2meta[k][\"MedAbbr\"], jour2meta[k][\"jourMeta\"][\"OAGoldPercent\"])\n",
    "        pass\n",
    "\n",
    "# Find papers in each journal.\n",
    "jour2paper = {j: set() for j in journals_s}\n",
    "for p, v in paper2meta.items():\n",
    "    jour2paper[v[\"jyf\"][0]].add(p)"
   ]
  },
  {
   "cell_type": "code",
   "execution_count": 3,
   "metadata": {},
   "outputs": [
    {
     "name": "stdout",
     "output_type": "stream",
     "text": [
      "131\n",
      "Journal Title                                                                                                                              JIF   % OA Gold  Number of Papers in Analysis\n",
      "ACS chemical neuroscience                                                                                                                    5       13.11                           251\n",
      "Acta neuropathologica                                                                                                                     12.7       60.92                           643\n",
      "Acta neuropathologica communications                                                                                                       7.1       99.82                          1445\n",
      "Acta neuropsychiatrica                                                                                                                     3.8       25.98                             1\n",
      "Alzheimer's & dementia (Amsterdam, Netherlands)                                                                                            5.3       56.76                           648\n",
      "Alzheimer's & dementia (New York, N. Y.)                                                                                                   4.8       69.73                           515\n",
      "Alzheimer's research & therapy                                                                                                               9       99.82                          1405\n",
      "Annals of clinical and translational neurology                                                                                             5.3       69.67                          1070\n",
      "Annals of neurology                                                                                                                       11.2        32.6                           332\n",
      "Annual review of neuroscience                                                                                                             13.9           0                             1\n",
      "ASN neuro                                                                                                                                  4.7        94.5                           377\n",
      "Behavioral and brain functions : BBF                                                                                                       5.1         100                           527\n",
      "Biological psychiatry                                                                                                                     10.6       33.46                           158\n",
      "Biological psychiatry. Cognitive neuroscience and neuroimaging                                                                             5.9       28.06                            42\n",
      "Bipolar disorders                                                                                                                          5.9       20.33                            40\n",
      "Brain : a journal of neurology                                                                                                            14.5       45.12                          1190\n",
      "Brain and behavior                                                                                                                         3.1       69.26                          1891\n",
      "Brain communications                                                                                                                       4.8        93.5                          1041\n",
      "Brain connectivity                                                                                                                         3.4       11.41                            39\n",
      "Brain pathology (Zurich, Switzerland)                                                                                                      6.4       52.89                           264\n",
      "Brain research bulletin                                                                                                                    3.8       14.76                            27\n",
      "Brain sciences                                                                                                                             3.3       99.39                          5303\n",
      "Brain stimulation                                                                                                                          7.7       94.43                           126\n",
      "Brain structure & function                                                                                                                 3.1       39.15                           585\n",
      "Brain, behavior, and immunity                                                                                                             15.1       32.18                           175\n",
      "Cellular and molecular neurobiology                                                                                                          4       12.72                           139\n",
      "Cephalalgia : an international journal of headache                                                                                         4.9       22.57                           148\n",
      "Cerebellum (London, England)                                                                                                               3.5       27.34                           173\n",
      "Cerebral cortex (New York, N.Y. : 1991)                                                                                                    3.7       26.84                          1188\n",
      "Chemical senses                                                                                                                            4.2       15.09                            47\n",
      "Clinical autonomic research : official journal of the Clinical Autonomic Research Society                                                  5.8       24.44                            62\n",
      "Clinical neurophysiology : official journal of the International Federation of Clinical Neurophysiology                                    4.7       27.98                            78\n",
      "Clinical psychopharmacology and neuroscience : the official scientific journal of the Korean College of Neuropsychopharmacology            3.2         100                           473\n",
      "Clocks & sleep                                                                                                                             3.1       99.26                           152\n",
      "CNS & neurological disorders drug targets                                                                                                    3         1.9                            11\n",
      "CNS neuroscience & therapeutics                                                                                                            5.5       62.96                           811\n",
      "Cognitive computation                                                                                                                      5.4          16                            19\n",
      "Cognitive neurodynamics                                                                                                                    3.7       12.15                            64\n",
      "Cortex; a journal devoted to the study of the nervous system and behavior                                                                  3.6        32.6                           172\n",
      "Current neurology and neuroscience reports                                                                                                 5.6       14.88                             5\n",
      "Current neuropharmacology                                                                                                                  5.3        5.23                          1105\n",
      "Current opinion in behavioral sciences                                                                                                       5       33.95                            25\n",
      "Current opinion in neurobiology                                                                                                            5.7       41.24                            65\n",
      "Current opinion in neurology                                                                                                               4.8       10.17                            60\n",
      "Developmental cognitive neuroscience                                                                                                       4.7       97.25                           980\n",
      "Developmental neurobiology                                                                                                                   3       25.93                            52\n",
      "Dialogues in clinical neuroscience                                                                                                         8.3       72.22                           567\n",
      "eNeuro                                                                                                                                     3.4       97.68                          2307\n",
      "Epilepsia                                                                                                                                  5.6       27.45                           259\n",
      "Epilepsia open                                                                                                                               3       66.26                           425\n",
      "European journal of neurology                                                                                                              5.1       28.35                           232\n",
      "European journal of pain (London, England)                                                                                                 3.6       32.08                           120\n",
      "European neuropsychopharmacology : the journal of the European College of Neuropsychopharmacology                                          5.6       25.21                            35\n",
      "Experimental neurology                                                                                                                     5.3        18.8                            73\n",
      "Fluids and barriers of the CNS                                                                                                             7.3       99.56                           540\n",
      "Frontiers in aging neuroscience                                                                                                            4.8       99.41                          5116\n",
      "Frontiers in cellular neuroscience                                                                                                         5.3       99.44                          4741\n",
      "Frontiers in computational neuroscience                                                                                                    3.2       99.06                          1404\n",
      "Frontiers in integrative neuroscience                                                                                                      3.5       99.17                           843\n",
      "Frontiers in molecular neuroscience                                                                                                        4.8       99.69                          3245\n",
      "Frontiers in neural circuits                                                                                                               3.5       99.45                          1370\n",
      "Frontiers in neuroendocrinology                                                                                                            7.4       25.19                            11\n",
      "Frontiers in neuroinformatics                                                                                                              3.5       99.63                           682\n",
      "Frontiers in neurology                                                                                                                     3.4       99.46                          8631\n",
      "Frontiers in neurorobotics                                                                                                                 3.1       99.82                           637\n",
      "Frontiers in neuroscience                                                                                                                  4.3       99.26                         10364\n",
      "Frontiers in synaptic neuroscience                                                                                                         3.7         100                           445\n",
      "Frontiers in systems neuroscience                                                                                                            3       99.24                          1393\n",
      "Glia                                                                                                                                       6.2       28.49                           245\n",
      "Hippocampus                                                                                                                                3.5       18.49                           110\n",
      "Human brain mapping                                                                                                                        4.8       67.82                          1702\n",
      "International journal of psychophysiology : official journal of the International Organization of Psychophysiology                           3       19.25                            15\n",
      "International journal of tryptophan research : IJTR                                                                                        4.4          98                           124\n",
      "Journal of Alzheimer's disease : JAD                                                                                                         4       17.88                            15\n",
      "Journal of cerebral blood flow and metabolism : official journal of the International Society of Cerebral Blood Flow and Metabolism        6.3       24.73                           379\n",
      "Journal of cognitive neuroscience                                                                                                          3.2        9.91                            16\n",
      "Journal of Huntington's disease                                                                                                            3.1       32.08                             1\n",
      "Journal of molecular neuroscience : MN                                                                                                     3.1        10.3                           158\n",
      "Journal of neural engineering                                                                                                                4       30.11                            86\n",
      "Journal of neural transmission (Vienna, Austria : 1996)                                                                                    3.3       45.29                           347\n",
      "Journal of neurochemistry                                                                                                                  4.7        19.3                           201\n",
      "Journal of neurodevelopmental disorders                                                                                                    4.9         100                           516\n",
      "Journal of neuroendocrinology                                                                                                              3.2       20.27                            99\n",
      "Journal of neuroengineering and rehabilitation                                                                                             5.1       99.79                          1597\n",
      "Journal of neuroimmune pharmacology : the official journal of the Society on NeuroImmune Pharmacology                                      6.2       12.58                           101\n",
      "Journal of neuroimmunology                                                                                                                 3.3       10.76                            43\n",
      "Journal of neuroinflammation                                                                                                               9.3         100                          3673\n",
      "Journal of neuromuscular diseases                                                                                                          3.3       36.57                            27\n",
      "Journal of neuropathology and experimental neurology                                                                                       3.2       16.11                           100\n",
      "Journal of neuroscience methods                                                                                                              3        30.4                           106\n",
      "Journal of neuroscience research                                                                                                           4.2       14.34                            96\n",
      "Journal of neurotrauma                                                                                                                     4.2       13.52                           181\n",
      "Journal of neurovirology                                                                                                                   3.2       13.55                           120\n",
      "Journal of Parkinson's disease                                                                                                             5.2       41.22                             6\n",
      "Journal of pineal research                                                                                                                10.3       19.34                            25\n",
      "Journal of psychiatry & neuroscience : JPN                                                                                                 4.3         100                           121\n",
      "Journal of psychopharmacology (Oxford, England)                                                                                            4.1       30.53                           240\n",
      "Journal of sleep research                                                                                                                  4.4       23.34                            94\n",
      "Journal of the neurological sciences                                                                                                       4.4       14.34                            67\n",
      "Journal of the peripheral nervous system : JPNS                                                                                            3.8       20.93                            20\n",
      "Metabolic brain disease                                                                                                                    3.6        4.54                            89\n",
      "Molecular and cellular neurosciences                                                                                                       3.5       24.29                            42\n",
      "Molecular autism                                                                                                                           6.2       99.53                           657\n",
      "Molecular brain                                                                                                                            3.6       99.77                          1024\n",
      "Molecular neurobiology                                                                                                                     5.1       21.12                           740\n",
      "Molecular neurodegeneration                                                                                                               15.1         100                          1005\n",
      "Molecular pain                                                                                                                             3.3        94.5                          1301\n",
      "Molecular psychiatry                                                                                                                        11       45.71                          1697\n",
      "Multiple sclerosis (Houndmills, Basingstoke, England)                                                                                      5.8       21.94                           339\n",
      "Muscle & nerve                                                                                                                             3.4       14.48                           100\n",
      "Nature aging                                                                                                                              16.6       19.53                            44\n",
      "Nature and science of sleep                                                                                                                3.4       96.55                           471\n",
      "Nature human behaviour                                                                                                                    29.9        9.69                            98\n",
      "Nature neuroscience                                                                                                                         25       10.39                          1384\n",
      "Nature reviews. Neurology                                                                                                                 38.1        4.17                            31\n",
      "Nature reviews. Neuroscience                                                                                                              34.7        2.11                             8\n",
      "Network (Bristol, England)                                                                                                                 7.8        4.76                             1\n",
      "Network neuroscience (Cambridge, Mass.)                                                                                                    4.7       97.96                           313\n",
      "Neural development                                                                                                                         3.6         100                           301\n",
      "Neural networks : the official journal of the International Neural Network Society                                                         7.8       16.76                             9\n",
      "Neural plasticity                                                                                                                          3.1       99.32                          1595\n",
      "Neural regeneration research                                                                                                               6.1          96                          1492\n",
      "Neuro-degenerative diseases                                                                                                                  3       17.19                             8\n",
      "Neurobiology of aging                                                                                                                      4.2       29.95                           194\n",
      "Neurobiology of disease                                                                                                                    6.1       96.26                           291\n",
      "Neurobiology of language (Cambridge, Mass.)                                                                                                3.2         100                            95\n",
      "Neurobiology of stress                                                                                                                       5        96.8                           510\n",
      "Neurochemical research                                                                                                                     4.4       11.78                           228\n",
      "Neurochemistry international                                                                                                               4.2       16.46                            19\n",
      "Neuroendocrinology                                                                                                                         4.1       17.38                            10\n",
      "Neurogastroenterology and motility : the official journal of the European Gastrointestinal Motility Society                                3.5       15.19                            38\n",
      "NeuroImage                                                                                                                                 5.7       96.27                          1561\n",
      "NeuroImage. Clinical                                                                                                                       4.2       99.65                          3364\n",
      "Neuroinformatics                                                                                                                             3       37.71                           117\n",
      "Neurological sciences : official journal of the Italian Neurological Society and of the Italian Society of Clinical Neurophysiology        3.3       16.84                           430\n",
      "Neurology(R) neuroimmunology & neuroinflammation                                                                                           8.8       99.01                           793\n",
      "Neuromolecular medicine                                                                                                                    3.5        13.5                            58\n",
      "Neuron                                                                                                                                    16.2       74.45                           378\n",
      "Neuropathology and applied neurobiology                                                                                                      5       46.15                           128\n",
      "Neuropharmacology                                                                                                                          4.7       22.03                           103\n",
      "Neurophotonics                                                                                                                             5.3       98.69                           293\n",
      "Neurophysiologie clinique = Clinical neurophysiology                                                                                         3       28.57                             2\n",
      "Neuropsychobiology                                                                                                                         3.2        9.92                             6\n",
      "Neuropsychology review                                                                                                                     5.8       28.68                            69\n",
      "Neuropsychopharmacology : official publication of the American College of Neuropsychopharmacology                                          7.6       29.78                           544\n",
      "Neuroscience                                                                                                                               3.3       17.06                           133\n",
      "Neuroscience and biobehavioral reviews                                                                                                     8.2       28.33                            96\n",
      "Neuroscience bulletin                                                                                                                      5.6       26.94                           164\n",
      "Neuroscience insights                                                                                                                      3.6       92.59                            62\n",
      "Neurotherapeutics : the journal of the American Society for Experimental NeuroTherapeutics                                                 5.7       29.75                           259\n",
      "Neurotoxicity research                                                                                                                     3.7        7.74                           151\n",
      "Neurotoxicology                                                                                                                            3.4       17.82                            11\n",
      "NPJ Parkinson's disease                                                                                                                    8.7       99.69                           565\n",
      "NPJ science of learning                                                                                                                    4.2         100                           128\n",
      "Nutritional neuroscience                                                                                                                   3.6        8.51                             6\n",
      "Pain                                                                                                                                       7.4       17.41                           414\n",
      "Pain reports                                                                                                                               4.8        99.1                           318\n",
      "Pharmacology, biochemistry, and behavior                                                                                                   3.6       16.49                            11\n",
      "Progress in neuro-psychopharmacology & biological psychiatry                                                                               5.6       16.76                            24\n",
      "Progress in neurobiology                                                                                                                   6.7       44.22                            41\n",
      "Psychiatry and clinical neurosciences                                                                                                     11.9       29.76                            35\n",
      "Psychoneuroendocrinology                                                                                                                   3.7       27.17                            69\n",
      "Psychopharmacology                                                                                                                         3.4       21.66                           678\n",
      "Psychophysiology                                                                                                                           3.7       25.99                           107\n",
      "Purinergic signalling                                                                                                                      3.5       34.08                           188\n",
      "Seizure                                                                                                                                      3        61.9                            29\n",
      "Sleep                                                                                                                                      5.6       24.05                           202\n",
      "Sleep medicine reviews                                                                                                                    10.5       21.25                            11\n",
      "Social cognitive and affective neuroscience                                                                                                4.2       95.97                           828\n",
      "The European journal of neuroscience                                                                                                       3.4       25.18                           480\n",
      "The international journal of neuropsychopharmacology                                                                                       4.8       91.11                           768\n",
      "The journal of headache and pain                                                                                                           7.4       99.52                          1476\n",
      "The Journal of neuroscience : the official journal of the Society for Neuroscience                                                         5.3       60.25                           629\n",
      "The journal of pain                                                                                                                          4       16.58                            23\n",
      "The Journal of physiology                                                                                                                  5.5       32.82                           322\n",
      "The Neuroscientist : a review journal bringing neurobiology, neurology and psychiatry                                                      5.6       17.24                            53\n",
      "Translational neurodegeneration                                                                                                           12.6         100                           393\n",
      "Translational stroke research                                                                                                              6.9       26.83                           147\n",
      "Trends in cognitive sciences                                                                                                              19.9       29.17                            51\n",
      "Trends in neuroscience and education                                                                                                       3.3       26.98                             8\n",
      "Trends in neurosciences                                                                                                                   15.9       30.91                            53\n",
      "Journal Average                                                                                                                            6.0       47.51                       601.707\n",
      "Journal Standard Deviation                                                                                                                 5.0       35.51                      1269.118\n"
     ]
    }
   ],
   "source": [
    "# Print journal table.\n",
    "jour2meta_sorted = dict(\n",
    "    sorted(dict(i for i in jour2meta.items() if i[1][\"MedAbbr\"] in journals_s).items(), key=lambda kv: kv[1][\"JournalTitle\"].casefold())\n",
    ")\n",
    "\n",
    "\n",
    "print(max([len(v[\"JournalTitle\"]) for v in jour2meta_sorted.values()]))\n",
    "print(f\"{'Journal Title':<132s}{'JIF':>10s}{'% OA Gold':>12s}{'Number of Papers in Analysis':>30s}\")\n",
    "bb = [None] * len(jour2meta_sorted)\n",
    "cc = [None] * len(jour2meta_sorted)\n",
    "dd = [None] * len(jour2meta_sorted)\n",
    "for i, k in enumerate(jour2meta_sorted):\n",
    "    a = jour2meta_sorted[k][\"JournalTitle\"]\n",
    "    b = jour2meta_sorted[k][\"jourMeta\"][\"JIF2022\"]\n",
    "    c = jour2meta_sorted[k][\"jourMeta\"][\"OAGoldPercent\"]\n",
    "    d = len(jour2paper[jour2meta_sorted[k][\"MedAbbr\"]])\n",
    "    bb[i] = b\n",
    "    cc[i] = c\n",
    "    dd[i] = d\n",
    "    print(f\"{a:<132s}{b:>10}{c:>12}{d:>30}\")\n",
    "print(f\"{'Journal Average':<132s}{np.mean(bb):>10.1f}{np.mean(cc):>12.2f}{np.mean(dd):>30.3f}\")\n",
    "print(f\"{'Journal Standard Deviation':<132s}{np.std(bb):>10.1f}{np.std(cc):>12.2f}{np.std(dd):>30.3f}\")"
   ]
  },
  {
   "cell_type": "markdown",
   "metadata": {},
   "source": [
    "### Make department table (all 28 considered)."
   ]
  },
  {
   "cell_type": "code",
   "execution_count": 2,
   "metadata": {},
   "outputs": [],
   "source": [
    "with open(os.path.join(dir_dict, \"paper2last_author.pkl\"), \"rb\") as f:\n",
    "    paper2last_author = pickle.load(f)\n",
    "with open(os.path.join(dir_dict, \"paper2first_author.pkl\"), \"rb\") as f:\n",
    "    paper2first_author = pickle.load(f)\n",
    "last_author2paper = reverse_dict_val(paper2last_author)\n",
    "first_author2paper = reverse_dict_val(paper2first_author)\n",
    "\n",
    "with open(os.path.join(dir_dict, \"paper2last_author_department_28_dep.pkl\"), \"rb\") as f:\n",
    "    paper2last_author_department = pickle.load(f)  # Last author departments for each paper.\n",
    "with open(os.path.join(dir_dict, \"paper2first_author_department_28_dep.pkl\"), \"rb\") as f:\n",
    "    paper2first_author_department = pickle.load(f)  # First author departments for each paper.\n",
    "last_author_department2paper = reverse_dict_list(paper2last_author_department)\n",
    "first_author_department2paper = reverse_dict_list(paper2first_author_department)\n",
    "dep_names = sorted(list(last_author_department2paper.keys()))\n",
    "\n",
    "\n",
    "last_author_dep2paper = reverse_dict_list(paper2last_author_department)\n",
    "last_author2dep = {au: [] for au in last_author2paper}\n",
    "for p, colist in paper2last_author_department.items():\n",
    "    last_author2dep[paper2last_author[p]] += colist\n",
    "last_author2dep = {au: list(set(colist)) for au, colist in last_author2dep.items()}\n",
    "dep2last_author = reverse_dict_list(last_author2dep)\n",
    "\n",
    "first_author_dep2paper = reverse_dict_list(paper2first_author_department)\n",
    "first_author2dep = {au: [] for au in first_author2paper}\n",
    "for p, colist in paper2first_author_department.items():\n",
    "    first_author2dep[paper2first_author[p]] += colist\n",
    "first_author2dep = {au: list(set(colist)) for au, colist in first_author2dep.items()}\n",
    "dep2first_author = reverse_dict_list(first_author2dep)\n",
    "\n",
    "last_author_dep2n_paper = dict(sorted({co: len(pp) for co, pp in last_author_dep2paper.items()}.items(), key=lambda x: x[0]))\n",
    "first_author_dep2n_paper = dict(sorted({co: len(pp) for co, pp in first_author_dep2paper.items()}.items(), key=lambda x: x[0]))\n",
    "\n",
    "dep2n_last_author = dict(sorted({co: len(pp) for co, pp in dep2last_author.items()}.items(), key=lambda x: x[0]))\n",
    "dep2n_first_author = dict(sorted({co: len(pp) for co, pp in dep2first_author.items()}.items(), key=lambda x: x[0]))"
   ]
  },
  {
   "cell_type": "code",
   "execution_count": 5,
   "metadata": {},
   "outputs": [
    {
     "name": "stdout",
     "output_type": "stream",
     "text": [
      "Department                                      # of Last Authors       # of Last Author Papers       # of First Authors      # of First Author Papers\n",
      "Anatomy                                                      1145                          2084                     1672                          1949\n",
      "Behavior                                                     1830                          2991                     2197                          2507\n",
      "Biochemistry                                                  840                          1292                     1062                          1183\n",
      "Biology                                                      5587                          9381                     7762                          8777\n",
      "Biomedical                                                   3530                          6260                     4744                          5556\n",
      "Cell                                                         2756                          4491                     3487                          3850\n",
      "Compute                                                      1133                          1940                     1743                          2059\n",
      "Engineering                                                  3309                          5798                     4922                          5718\n",
      "Genetics                                                     1549                          2506                     2070                          2326\n",
      "Imaging                                                      2386                          5224                     3773                          4805\n",
      "Information                                                   557                           933                      929                          1127\n",
      "Mathematics                                                   239                           313                      321                           355\n",
      "Medical                                                     25979                         47156                    36983                         45746\n",
      "Mental                                                       4199                          7409                     6005                          7092\n",
      "Molecular                                                    3124                          5285                     4146                          4743\n",
      "Neurology                                                    8396                         17291                    12568                         16021\n",
      "Neuroscience                                                10229                         19974                    14899                         18047\n",
      "Ophthalmology                                                 577                           885                      704                           793\n",
      "Pathology                                                    1166                          1962                     1490                          1764\n",
      "Pharma                                                       3553                          5822                     4703                          5433\n",
      "Physics                                                       955                          1599                     1315                          1487\n",
      "Physiology                                                   3440                          6283                     4958                          5749\n",
      "Psychiatry                                                   4439                          8581                     6013                          7463\n",
      "Psychology                                                   4790                          8835                     7303                          8836\n",
      "Radiology                                                    1584                          3158                     2223                          2887\n",
      "Statistics                                                    346                           485                      389                           437\n",
      "Surgery                                                      3093                          5126                     4004                          4733\n",
      "Therapy                                                      1132                          1909                     1589                          1908\n"
     ]
    }
   ],
   "source": [
    "print(\n",
    "    f\"{'Department':<45s}{'# of Last Authors':>20s}{'# of Last Author Papers':>30s}{'# of First Authors':>25s}{'# of First Author Papers':>30s}\"\n",
    ")\n",
    "aa, bb, cc, dd = [None] * len(dep_names), [None] * len(dep_names), [None] * len(dep_names), [None] * len(dep_names)\n",
    "for i, co in enumerate(dep_names):\n",
    "    a = dep2n_last_author[co] if co in dep2n_last_author else 0\n",
    "    b = last_author_dep2n_paper[co] if co in last_author_dep2n_paper else 0\n",
    "    c = dep2n_first_author[co] if co in dep2n_first_author else 0\n",
    "    d = first_author_dep2n_paper[co] if co in first_author_dep2n_paper else 0\n",
    "    aa[i], bb[i], cc[i], dd[i] = a, b, c, d\n",
    "    print(f\"{co.capitalize():<45s}{a:>20}{b:>30}{c:>25}{d:>30}\")"
   ]
  },
  {
   "cell_type": "markdown",
   "metadata": {},
   "source": [
    "### Make country table (23 that end up in the analyses)."
   ]
  },
  {
   "cell_type": "code",
   "execution_count": 2,
   "metadata": {},
   "outputs": [],
   "source": [
    "from country_list import countries_for_language\n",
    "\n",
    "two_letter2full_name = dict(countries_for_language(\"en\"))\n",
    "\n",
    "with open(os.path.join(dir_dict, \"country2power_distance.pkl\"), \"rb\") as f:\n",
    "    country2power_distance = pickle.load(f)\n",
    "with open(os.path.join(dir_dict, \"country2individualism.pkl\"), \"rb\") as f:\n",
    "    country2individualism = pickle.load(f)\n",
    "\n",
    "with open(os.path.join(dir_dict, \"paper2last_author.pkl\"), \"rb\") as f:\n",
    "    paper2last_author = pickle.load(f)\n",
    "with open(os.path.join(dir_dict, \"paper2first_author.pkl\"), \"rb\") as f:\n",
    "    paper2first_author = pickle.load(f)\n",
    "last_author2paper = reverse_dict_val(paper2last_author)\n",
    "first_author2paper = reverse_dict_val(paper2first_author)\n",
    "\n",
    "with open(os.path.join(dir_dict, \"paper2last_author_country.pkl\"), \"rb\") as f:\n",
    "    paper2last_author_country = pickle.load(f)  # Last author countries for each paper.\n",
    "with open(os.path.join(dir_dict, \"paper2first_author_country.pkl\"), \"rb\") as f:\n",
    "    paper2first_author_country = pickle.load(f)  # First author countries for each paper.\n",
    "last_author_country2paper = reverse_dict_list(paper2last_author_country)\n",
    "first_author_country2paper = reverse_dict_list(paper2first_author_country)\n",
    "country_names = sorted(list(country2power_distance.keys()), key=lambda x: two_letter2full_name[x])\n",
    "\n",
    "\n",
    "last_author_nat2paper = reverse_dict_list(paper2last_author_country)\n",
    "last_author2nat = {au: [] for au in last_author2paper}\n",
    "for p, colist in paper2last_author_country.items():\n",
    "    last_author2nat[paper2last_author[p]] += colist\n",
    "last_author2nat = {au: list(set(colist)) for au, colist in last_author2nat.items()}\n",
    "nat2last_author = reverse_dict_list(last_author2nat)\n",
    "\n",
    "first_author_nat2paper = reverse_dict_list(paper2first_author_country)\n",
    "first_author2nat = {au: [] for au in first_author2paper}\n",
    "for p, colist in paper2first_author_country.items():\n",
    "    first_author2nat[paper2first_author[p]] += colist\n",
    "first_author2nat = {au: list(set(colist)) for au, colist in first_author2nat.items()}\n",
    "nat2first_author = reverse_dict_list(first_author2nat)\n",
    "\n",
    "last_author_nat2n_paper = dict(sorted({co: len(pp) for co, pp in last_author_nat2paper.items()}.items(), key=lambda x: x[0]))\n",
    "first_author_nat2n_paper = dict(sorted({co: len(pp) for co, pp in first_author_nat2paper.items()}.items(), key=lambda x: x[0]))\n",
    "\n",
    "nat2n_last_author = dict(sorted({co: len(pp) for co, pp in nat2last_author.items()}.items(), key=lambda x: x[0]))\n",
    "nat2n_first_author = dict(sorted({co: len(pp) for co, pp in nat2first_author.items()}.items(), key=lambda x: x[0]))"
   ]
  },
  {
   "cell_type": "code",
   "execution_count": 4,
   "metadata": {},
   "outputs": [
    {
     "name": "stdout",
     "output_type": "stream",
     "text": [
      "Country/Region                 Power Distance       Individualism   # of Last Authors       # of Last Author Papers       # of First Authors      # of First Author Papers\n",
      "Australia (AU)                             38                  90                1472                          2639                     2137                          2574\n",
      "Austria (AT)                               11                  55                 421                           858                      692                           909\n",
      "Belgium (BE)                               65                  75                 489                           999                      876                          1063\n",
      "Canada (CA)                                39                  80                2025                          4160                     3352                          4084\n",
      "China (CN)                                 80                  20                8163                         16197                    12523                         17040\n",
      "Denmark (DK)                               18                  74                 523                           944                      730                           887\n",
      "Finland (FI)                               33                  63                 324                           607                      500                           605\n",
      "France (FR)                                68                  71                1697                          2694                     2345                          2711\n",
      "Germany (DE)                               35                  67                3634                          7216                     5974                          7355\n",
      "Ireland (IE)                               28                  70                 185                           334                      288                           326\n",
      "Israel (IL)                                13                  54                 422                           722                      639                           739\n",
      "Italy (IT)                                 50                  76                2576                          5064                     3818                          5255\n",
      "Japan (JP)                                 54                  46                1622                          3257                     2769                          3375\n",
      "Netherlands (NL)                           38                  80                1621                          3126                     2682                          3277\n",
      "Norway (NO)                                31                  69                 379                           740                      547                           699\n",
      "Poland (PL)                                68                  60                 582                           983                      795                          1041\n",
      "South Korea (KR)                           60                  18                 982                          1919                     1541                          1955\n",
      "Spain (ES)                                 57                  51                1429                          2310                     2005                          2411\n",
      "Sweden (SE)                                31                  71                 852                          1776                     1339                          1717\n",
      "Switzerland (CH)                           34                  68                1104                          2025                     1658                          2054\n",
      "Taiwan (TW)                                58                  17                 532                           897                      766                           925\n",
      "United Kingdom (GB)                        35                  89                4532                          9695                     7334                          9465\n",
      "United States (US)                         40                  91               14518                         26111                    20984                         25307\n"
     ]
    }
   ],
   "source": [
    "print(\n",
    "    f\"{'Country/Region':<25s}{'Power Distance':>20s}{'Individualism':>20s}{'# of Last Authors':>20s}{'# of Last Author Papers':>30s}{'# of First Authors':>25s}{'# of First Author Papers':>30s}\"\n",
    ")\n",
    "for i, co in enumerate(country_names):\n",
    "    a = nat2n_last_author[co] if co in nat2n_last_author else 0\n",
    "    b = last_author_nat2n_paper[co] if co in last_author_nat2n_paper else 0\n",
    "    c = nat2n_first_author[co] if co in nat2n_first_author else 0\n",
    "    d = first_author_nat2n_paper[co] if co in first_author_nat2n_paper else 0\n",
    "    pwd = int(country2power_distance[co])\n",
    "    inv = int(country2individualism[co])\n",
    "    full_name = f\"{two_letter2full_name[co]} ({co})\"\n",
    "    print(f\"{full_name:<25s}{pwd:>20}{inv:>20}{a:>20}{b:>30}{c:>25}{d:>30}\")"
   ]
  },
  {
   "cell_type": "markdown",
   "metadata": {},
   "source": [
    "## Make figure: sentiment ratio (post-hierarchy) as a function of number of sentences in pre-hierarchy."
   ]
  },
  {
   "cell_type": "code",
   "execution_count": 3,
   "metadata": {},
   "outputs": [],
   "source": [
    "# row: Number of citation mentions; col: 3 sentiment\n",
    "ratio_mat_rel = np.zeros((cm_max, 3))\n",
    "for d in range(cm_max):\n",
    "    sent_emp = np.array([cite2sent_emp[pair] for pair, ns in cite2ns.items() if ns == d + 1])\n",
    "    r_emp = np.array([np.sum(sent_emp == s) for s in [1, 0, -1]], dtype=float)\n",
    "    r_emp /= np.sum(r_emp)\n",
    "    ratio_mat_rel[d, :] = r_emp"
   ]
  },
  {
   "cell_type": "code",
   "execution_count": 4,
   "metadata": {},
   "outputs": [
    {
     "data": {
      "image/png": "[encoded data removed]",
      "text/plain": [
       "<Figure size 341x341 with 1 Axes>"
      ]
     },
     "metadata": {},
     "output_type": "display_data"
    }
   ],
   "source": [
    "# Figure production.\n",
    "fig, ax = plt.subplots(figsize=(3.41, 3.41))\n",
    "xticklabels = [f\"{x}\" for x in range(1, cm_max + 1)]  # Number of citation mentions label.\n",
    "x_arr = np.arange(len(xticklabels))\n",
    "\n",
    "for i in range(3):  # One curve for each of the 3 sentiments.\n",
    "    ax.plot(x_arr, ratio_mat_rel[:, i], color=sent_colors[i])\n",
    "\n",
    "ax.set_xlabel(\"Number of Citation Mentions\", size=10)  # x-large\n",
    "ax.set_ylabel(\"Sentiment Ratio\", size=10)  # x-large\n",
    "ax.set_xticks(x_arr, xticklabels)\n",
    "ax.grid(which=\"major\", axis=\"x\", alpha=0.2)\n",
    "\n",
    "fig.tight_layout()\n",
    "plt.show()\n",
    "fig.savefig(os.path.join(dir_output, \"SUPP SR vs. NS.svg\"), bbox_inches=\"tight\", transparent=True)\n",
    "fig.clf()  # Clear figure.\n",
    "plt.close(fig=fig)  # Close figure."
   ]
  },
  {
   "cell_type": "markdown",
   "metadata": {},
   "source": [
    "### Gender difference in self-cite sentiment"
   ]
  },
  {
   "cell_type": "code",
   "execution_count": 2,
   "metadata": {},
   "outputs": [],
   "source": [
    "from helper_functions import stats, pval_star, plot_scatter_no_fit\n",
    "\n",
    "ratio_mat_rel = np.load(os.path.join(dir_npy, \"ratio_mat_rel-gender_effect.npy\"))\n",
    "ratio_mat_rel = ratio_mat_rel[-1, ...]\n",
    "genders_select = np.load(os.path.join(dir_npy, \"groups-gender_effect.npy\"))\n",
    "\n",
    "sent2lab = {1: \"Favorable Sentiment\", 0: \"Neutral Sentiment\", -1: \"Critical Sentiment\"}\n",
    "sent2idx = {1: 0, 0: 1, -1: 2}"
   ]
  },
  {
   "cell_type": "code",
   "execution_count": 3,
   "metadata": {},
   "outputs": [
    {
     "name": "stdout",
     "output_type": "stream",
     "text": [
      "\n",
      "\n",
      "Critical Sentiment\n",
      "mean 5.597755579173615 p<0.0001 TtestResult(statistic=46.85732241370161, pvalue=1.10621653787852e-309, df=1721.9818935879032)\n",
      "Normality tests:\n",
      "mean man NormaltestResult(statistic=3.707295967322457, pvalue=0.15666461266810125)\n",
      "mean woman NormaltestResult(statistic=6.628959325995082, pvalue=0.036352959446849825)\n",
      "mean -29.33, -34.93\n",
      "std 2.07, 3.16\n",
      "\n",
      "\n",
      "Neutral Sentiment\n",
      "mean -0.5916405371531823 p<0.0001 TtestResult(statistic=-8.898027989381857, pvalue=1.4751305803769033e-18, df=1632.5478031804223)\n",
      "Normality tests:\n",
      "mean man NormaltestResult(statistic=2.107084293599074, pvalue=0.34870041094353904)\n",
      "mean woman NormaltestResult(statistic=1.3899576469905344, pvalue=0.49908501674945016)\n",
      "mean -20.43, -19.84\n",
      "std 1.08, 1.80\n",
      "\n",
      "\n",
      "Favorable Sentiment\n",
      "mean -0.8146215344712857 p<0.0001 TtestResult(statistic=-11.684457151260668, pvalue=2.2919189742055713e-30, df=1656.8782696441015)\n",
      "Normality tests:\n",
      "mean man NormaltestResult(statistic=3.594077179053162, pvalue=0.16578913162810555)\n",
      "mean woman NormaltestResult(statistic=0.9352475127297418, pvalue=0.6264891918913658)\n",
      "mean 23.14, 23.96\n",
      "std 1.15, 1.88\n"
     ]
    }
   ],
   "source": [
    "for sent in [-1, 0, 1]:\n",
    "    print(f\"\\n\\n{sent2lab[sent]}\")\n",
    "    mean = ratio_mat_rel[:, sent2idx[sent], :]\n",
    "\n",
    "    t_mean = stats.ttest_ind(mean[0, :], mean[1, :], equal_var=False, permutations=None, alternative=\"two-sided\")\n",
    "    print(f\"mean {np.nanmean(mean[0, :])-np.nanmean(mean[1, :])} {pval_star(t_mean.pvalue)}\", t_mean)\n",
    "\n",
    "    print(\"Normality tests:\")\n",
    "    for g, g_str in enumerate(genders_select):\n",
    "        print(\"mean\", g_str, stats.normaltest(mean[g, :]))\n",
    "\n",
    "    print(f\"mean {np.nanmean(mean[0, :]):.2f}, {np.nanmean(mean[1, :]):.2f}\")\n",
    "    print(f\"std {np.nanstd(mean[0, :]):.2f}, {np.nanstd(mean[1, :]):.2f}\")"
   ]
  }
 ],
 "metadata": {
  "kernelspec": {
   "display_name": "venv_px",
   "language": "python",
   "name": "python3"
  },
  "language_info": {
   "codemirror_mode": {
    "name": "ipython",
    "version": 3
   },
   "file_extension": ".py",
   "mimetype": "text/x-python",
   "name": "python",
   "nbconvert_exporter": "python",
   "pygments_lexer": "ipython3",
   "version": "3.9.13"
  }
 },
 "nbformat": 4,
 "nbformat_minor": 2
}
