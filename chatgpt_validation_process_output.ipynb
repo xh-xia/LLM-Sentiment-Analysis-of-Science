{
 "cells": [
  {
   "cell_type": "code",
   "execution_count": 1,
   "metadata": {},
   "outputs": [],
   "source": [
    "import csv\n",
    "import os\n",
    "import json\n",
    "import itertools\n",
    "import numpy as np\n",
    "import seaborn as sns\n",
    "import pandas as pd\n",
    "from scipy import stats, special\n",
    "import matplotlib.pyplot as plt\n",
    "\n",
    "CWD = os.path.abspath(\"\")  # get jupyter notebook path\n",
    "path_ = os.path.join(CWD, \"batch\")"
   ]
  },
  {
   "cell_type": "code",
   "execution_count": 2,
   "metadata": {},
   "outputs": [],
   "source": [
    "def transform_rating(ratings):\n",
    "    avg = np.mean(ratings)\n",
    "    if avg <= -2 / 5:\n",
    "        return -1\n",
    "    elif avg >= 2 / 5:\n",
    "        return 1\n",
    "    return 0\n",
    "\n",
    "\n",
    "def pval_star(pval, star=True):\n",
    "    if star:\n",
    "        return \"\" + \"*\" * (pval < 0.05) + \"*\" * (pval < 0.01) + \"*\" * (pval < 0.001) + \"*\" * (pval < 0.0001)\n",
    "    else:\n",
    "        if pval >= 0.05:\n",
    "            return \"p≥0.05\"\n",
    "        elif 0.01 <= pval < 0.05:\n",
    "            return \"p<0.05\"\n",
    "        elif 0.001 <= pval < 0.01:\n",
    "            return \"p<0.01\"\n",
    "        elif 0.0001 <= pval < 0.001:\n",
    "            return \"p<0.001\"\n",
    "        else:\n",
    "            return \"p<0.0001\""
   ]
  },
  {
   "cell_type": "code",
   "execution_count": 3,
   "metadata": {},
   "outputs": [],
   "source": [
    "ratings = []\n",
    "sreader = None\n",
    "\n",
    "n_train = 0\n",
    "for str_ in [\"rated_training_more_neg.csv\", \"rated_validation_more_neg.csv\"]:\n",
    "    with open(os.path.join(path_, str_), newline=\"\\n\", encoding=\"utf8\") as csvfile:\n",
    "        sreader = csv.reader(csvfile, delimiter=\",\", quotechar='\"')\n",
    "        next(sreader)\n",
    "        for row in sreader:\n",
    "            n_rater = len(row) - 1\n",
    "            try:\n",
    "                ratings.append([float(val) for val in row[1 : n_rater + 1]])\n",
    "            except:\n",
    "                print(row)\n",
    "            if str_ == \"rated_training_more_neg.csv\":\n",
    "                n_train += 1\n",
    "\n",
    "ratings = np.array(ratings).T\n",
    "averaged = np.array([transform_rating(v) for v in np.mean(ratings, 0)])\n",
    "\n",
    "n1, n2, n3 = special.comb(ratings.shape[0], 2, exact=True), ratings.shape[0], ratings.shape[0]\n",
    "nn = n1 + n2 + n3\n",
    "samples = [[None for _ in range(n1)], [None for _ in range(n2)], [None for _ in range(n3)]]"
   ]
  },
  {
   "cell_type": "code",
   "execution_count": null,
   "metadata": {},
   "outputs": [],
   "source": [
    "ratings_machine = np.zeros((2, ratings.shape[1]), dtype=int)\n",
    "\n",
    "fname_M_1106 = \"batch_SERIALNUMBER1_output.jsonl\"\n",
    "fname_M_1106T = \"batch_SERIALNUMBER2_output.jsonl\"\n",
    "badrates = np.zeros((2, 3), dtype=int)  # training, validation, both\n",
    "n_train\n",
    "\n",
    "for m, fname in enumerate([fname_M_1106, fname_M_1106T]):\n",
    "    print(f\"model {m}\")\n",
    "    with open(os.path.join(path_, fname)) as f:\n",
    "        for q, l in enumerate(f):\n",
    "            jsonD = json.loads(l)\n",
    "            model_str = jsonD[\"response\"][\"body\"][\"model\"]\n",
    "\n",
    "            ans = jsonD[\"response\"][\"body\"][\"choices\"]\n",
    "            if len(ans) != 1:\n",
    "                raise Exception(\"bruh\")\n",
    "            rate = ans[0][\"message\"][\"content\"].strip().replace(\"+1\", \"1\")\n",
    "            try:\n",
    "                ratings_machine[m, q] = int(rate)\n",
    "            except:\n",
    "                print(rate)\n",
    "                ratings_machine[m, q] = 0\n",
    "                if q < n_train:\n",
    "                    badrates[m, 0] += 1\n",
    "                else:\n",
    "                    badrates[m, 1] += 1\n",
    "                badrates[m, 2] += 1\n",
    "        print(model_str)\n",
    "\n",
    "print(badrates)\n",
    "print(n_train, ratings.shape[1] - n_train, ratings.shape[1])"
   ]
  },
  {
   "cell_type": "code",
   "execution_count": 9,
   "metadata": {},
   "outputs": [
    {
     "name": "stdout",
     "output_type": "stream",
     "text": [
      "0.3960 0.5083 28.37%\n"
     ]
    }
   ],
   "source": [
    "col_mask = slice(n_train, ratings.shape[1])  # validation\n",
    "\n",
    "for idx, (idx1, idx2) in enumerate(itertools.combinations(range(ratings.shape[0]), 2)):\n",
    "    spear = stats.spearmanr(ratings[idx1, col_mask], ratings[idx2, col_mask])\n",
    "    r1, p1 = spear.correlation, spear.pvalue\n",
    "    samples[0][idx] = r1\n",
    "\n",
    "for idx in range(ratings.shape[0]):\n",
    "    spear = stats.spearmanr(ratings[idx, col_mask], ratings_machine[0, col_mask])\n",
    "    r1, p1 = spear.correlation, spear.pvalue\n",
    "    samples[1][idx] = r1\n",
    "\n",
    "    spear = stats.spearmanr(ratings[idx, col_mask], ratings_machine[1, col_mask])\n",
    "    r1, p1 = spear.correlation, spear.pvalue\n",
    "    samples[2][idx] = r1\n",
    "\n",
    "\n",
    "a = np.mean(samples[0])  # Human average agreement.\n",
    "b = np.mean(samples[2])  # Trained model agreement.\n",
    "print(f\"{a:.4f} {b:.4f} {(b-a)/a*100:.2f}%\")"
   ]
  },
  {
   "cell_type": "code",
   "execution_count": 10,
   "metadata": {},
   "outputs": [
    {
     "name": "stdout",
     "output_type": "stream",
     "text": [
      "(0, 1) t=1.572, p=0.1552730431476898 (), df=7.847337535311261\n",
      "(0, 2) t=-1.646, p=0.1467356407240832 (), df=6.54471093823924\n",
      "(1, 2) t=-2.660, p=0.029929086294574244 (*), df=7.664503044209763\n"
     ]
    },
    {
     "name": "stderr",
     "output_type": "stream",
     "text": [
      "/var/folders/fy/v31sdshs3bb619z7wtc8pdv00000gr/T/ipykernel_98746/946982075.py:12: DeprecationWarning: In future, it will be an error for 'np.bool_' scalars to be interpreted as an index\n",
      "  return \"\" + \"*\" * (pval < 0.05) + \"*\" * (pval < 0.01) + \"*\" * (pval < 0.001) + \"*\" * (pval < 0.0001)\n"
     ]
    },
    {
     "data": {
      "image/png": "[encoded data removed]",
      "text/plain": [
       "<Figure size 640x480 with 1 Axes>"
      ]
     },
     "metadata": {},
     "output_type": "display_data"
    }
   ],
   "source": [
    "col_mask = slice(n_train, ratings.shape[1])\n",
    "samples = [[None for _ in range(n1)], [None for _ in range(n2)], [None for _ in range(n3)]]\n",
    "\n",
    "df_fdpc = pd.DataFrame(data={x: [None for _ in range(nn)] for x in [\"Correlation\", \"Rater Pair Type\"]})\n",
    "for idx, (idx1, idx2) in enumerate(itertools.combinations(range(ratings.shape[0]), 2)):\n",
    "    spear = stats.spearmanr(ratings[idx1, col_mask], ratings[idx2, col_mask])\n",
    "    r1, p1 = spear.correlation, spear.pvalue\n",
    "    df_fdpc.at[idx, \"Correlation\"] = r1\n",
    "    df_fdpc.at[idx, \"Rater Pair Type\"] = \"H-H\"\n",
    "    samples[0][idx] = r1\n",
    "\n",
    "for idx in range(ratings.shape[0]):\n",
    "    spear = stats.spearmanr(ratings[idx, col_mask], ratings_machine[0, col_mask])\n",
    "    r1, p1 = spear.correlation, spear.pvalue\n",
    "    df_fdpc.at[idx + n1, \"Correlation\"] = r1\n",
    "    df_fdpc.at[idx + n1, \"Rater Pair Type\"] = \"H-1106\"\n",
    "    samples[1][idx] = r1\n",
    "\n",
    "    spear = stats.spearmanr(ratings[idx, col_mask], ratings_machine[1, col_mask])\n",
    "    r1, p1 = spear.correlation, spear.pvalue\n",
    "    df_fdpc.at[idx + n1 + n2, \"Correlation\"] = r1\n",
    "    df_fdpc.at[idx + n1 + n2, \"Rater Pair Type\"] = \"H-1106-Trained\"\n",
    "    samples[2][idx] = r1\n",
    "\n",
    "\n",
    "ttest_res = dict()\n",
    "for idx, (s1, s2) in enumerate(itertools.combinations(range(len(samples)), 2)):\n",
    "    res = stats.ttest_ind(samples[s1], samples[s2], equal_var=False, alternative=\"two-sided\")\n",
    "    ttest_res[(s1, s2)] = res\n",
    "    print(f\"{(s1, s2)} t={res.statistic:.3f}, p={res.pvalue} ({pval_star(res.pvalue, star=True)}), df={res.df}\")\n",
    "\n",
    "fig, ax = plt.subplots()\n",
    "kwargs = dict(\n",
    "    boxprops={\"facecolor\": \"none\", \"edgecolor\": \"black\"},\n",
    "    # meanprops={\"marker\": \"_\", \"markerfacecolor\": \"black\", \"markeredgecolor\": \"black\", \"markersize\": 12},\n",
    "    medianprops={\"color\": \"black\"},\n",
    "    whiskerprops={\"visible\": False},\n",
    "    showmeans=False,\n",
    "    showfliers=False,\n",
    "    showbox=True,\n",
    "    showcaps=False,\n",
    "    legend=False,\n",
    ")\n",
    "sns.boxplot(data=df_fdpc, x=\"Rater Pair Type\", y=\"Correlation\", ax=ax, zorder=2, **kwargs)\n",
    "sns.stripplot(data=df_fdpc, x=\"Rater Pair Type\", y=\"Correlation\", jitter=True, color=\"black\", alpha=1, ax=ax, zorder=0)\n",
    "sns.despine()\n",
    "\n",
    "ax.plot(ax.get_xlim(), [np.mean(samples[0]), np.mean(samples[0])], color=\"red\")\n",
    "\n",
    "strin = \"Validation\"\n",
    "fname = f\"Inter-Rater Reliability - Humans vs. GPT Models ({strin} Data)\"\n",
    "ax.set_title(fname)\n",
    "\n",
    "fig.tight_layout()\n",
    "plt.show()\n",
    "\n",
    "# bbox_inches=\"tight\": auto resize fig to fit titles and such\n",
    "fig.savefig(os.path.join(CWD, \"output\", f\"SUPP {fname}.svg\"), bbox_inches=\"tight\", transparent=True)\n",
    "fig.clf()  # clear figure\n",
    "plt.close(fig=fig)  # close figure"
   ]
  },
  {
   "cell_type": "code",
   "execution_count": null,
   "metadata": {},
   "outputs": [],
   "source": []
  }
 ],
 "metadata": {
  "kernelspec": {
   "display_name": "venv-hier",
   "language": "python",
   "name": "python3"
  },
  "language_info": {
   "codemirror_mode": {
    "name": "ipython",
    "version": 3
   },
   "file_extension": ".py",
   "mimetype": "text/x-python",
   "name": "python",
   "nbconvert_exporter": "python",
   "pygments_lexer": "ipython3",
   "version": "3.9.13"
  }
 },
 "nbformat": 4,
 "nbformat_minor": 2
}
